{
  "nbformat": 4,
  "nbformat_minor": 0,
  "metadata": {
    "colab": {
      "provenance": []
    },
    "kernelspec": {
      "name": "python3",
      "display_name": "Python 3"
    },
    "language_info": {
      "name": "python"
    }
  },
  "cells": [
    {
      "cell_type": "code",
      "source": [
        "import scipy.io.wavfile as wavfile\n",
        "import scipy\n",
        "import scipy.fftpack as fftpk\n",
        "import numpy as np\n",
        "from matplotlib import pyplot as plt\n",
        "\n",
        "s_rate, signal = wavfile.read(\"rahma.wav\")\n",
        "\n",
        "plt.plot( signal)\n"
      ],
      "metadata": {
        "id": "yJFlChJxDsyu",
        "colab": {
          "base_uri": "https://localhost:8080/",
          "height": 300
        },
        "outputId": "6dab3fc7-d8cb-41bf-8386-7143ed69579b"
      },
      "execution_count": null,
      "outputs": [
        {
          "output_type": "execute_result",
          "data": {
            "text/plain": [
              "[<matplotlib.lines.Line2D at 0x7f7124cf0310>,\n",
              " <matplotlib.lines.Line2D at 0x7f7124cf0370>]"
            ]
          },
          "metadata": {},
          "execution_count": 3
        },
        {
          "output_type": "display_data",
          "data": {
            "text/plain": [
              "<Figure size 432x288 with 1 Axes>"
            ],
            "image/png": "[encoded data removed]"
          },
          "metadata": {
            "needs_background": "light"
          }
        }
      ]
    },
    {
      "cell_type": "code",
      "source": [
        "frame_size = (15/1000 )* s_rate\n"
      ],
      "metadata": {
        "id": "adtwblfqkMOK"
      },
      "execution_count": null,
      "outputs": []
    },
    {
      "cell_type": "code",
      "source": [
        "datalen = len(signal)\n",
        "datalen"
      ],
      "metadata": {
        "colab": {
          "base_uri": "https://localhost:8080/"
        },
        "id": "-2Vtm2D6nMcA",
        "outputId": "52a0151c-691c-49a2-84e3-5053b9b8b620"
      },
      "execution_count": null,
      "outputs": [
        {
          "output_type": "execute_result",
          "data": {
            "text/plain": [
              "64512"
            ]
          },
          "metadata": {},
          "execution_count": 46
        }
      ]
    },
    {
      "cell_type": "code",
      "source": [
        "framNum = datalen / frame_size\n",
        "np.ceil(framNum)"
      ],
      "metadata": {
        "colab": {
          "base_uri": "https://localhost:8080/"
        },
        "id": "aUD9MMg-nl0K",
        "outputId": "c778801b-533d-4a45-aa0f-d9a54b674e24"
      },
      "execution_count": null,
      "outputs": [
        {
          "output_type": "execute_result",
          "data": {
            "text/plain": [
              "90.0"
            ]
          },
          "metadata": {},
          "execution_count": 47
        }
      ]
    },
    {
      "cell_type": "code",
      "source": [
        "for i in range(framNum):\n",
        "\n"
      ],
      "metadata": {
        "id": "X5iAAA_hrUvR"
      },
      "execution_count": null,
      "outputs": []
    },
    {
      "cell_type": "code",
      "source": [],
      "metadata": {
        "id": "h6QRtHen5Vmh"
      },
      "execution_count": null,
      "outputs": []
    },
    {
      "cell_type": "code",
      "source": [
        "def framing(signal,s_rate,frame_size):\n",
        "  framNum = datalen / frame_size\n",
        "\n",
        "\n",
        "\n"
      ],
      "metadata": {
        "id": "8OY304HWe7_8"
      },
      "execution_count": null,
      "outputs": []
    },
    {
      "cell_type": "code",
      "source": [
        "framNum=np.ceil(framNum)"
      ],
      "metadata": {
        "id": "RgS33xN_CR7_"
      },
      "execution_count": null,
      "outputs": []
    },
    {
      "cell_type": "code",
      "source": [
        "int(framNum)\n",
        "framNum"
      ],
      "metadata": {
        "colab": {
          "base_uri": "https://localhost:8080/"
        },
        "id": "43TNq2NACa_V",
        "outputId": "7c15f35c-f8d8-4d8e-db8a-d5d143cc1aca"
      },
      "execution_count": null,
      "outputs": [
        {
          "output_type": "execute_result",
          "data": {
            "text/plain": [
              "90.0"
            ]
          },
          "metadata": {},
          "execution_count": 51
        }
      ]
    },
    {
      "cell_type": "code",
      "source": [
        "for row in range(int(framNum)):\n",
        "    matrix = []\n",
        "    for column in range(int(framNum)):\n",
        "        matrix.append(signal)"
      ],
      "metadata": {
        "id": "ASuaI1F5_dNN"
      },
      "execution_count": null,
      "outputs": []
    },
    {
      "cell_type": "code",
      "source": [
        "matrix"
      ],
      "metadata": {
        "id": "XIyj84vsCCJ5"
      },
      "execution_count": null,
      "outputs": []
    },
    {
      "cell_type": "code",
      "source": [
        "fmat"
      ],
      "metadata": {
        "colab": {
          "base_uri": "https://localhost:8080/"
        },
        "id": "zfv6vJ8h7CIB",
        "outputId": "a505ad71-a3ad-4445-9758-ee524e039bac"
      },
      "execution_count": null,
      "outputs": [
        {
          "output_type": "execute_result",
          "data": {
            "text/plain": [
              "matrix([[0, 0]], dtype=int16)"
            ]
          },
          "metadata": {},
          "execution_count": 35
        }
      ]
    },
    {
      "cell_type": "code",
      "source": [
        "fmat = np.matrix(signal)"
      ],
      "metadata": {
        "id": "CwWXeDd2haOB"
      },
      "execution_count": null,
      "outputs": []
    },
    {
      "cell_type": "code",
      "source": [
        "fmat\n"
      ],
      "metadata": {
        "colab": {
          "base_uri": "https://localhost:8080/"
        },
        "id": "GC1XkGVLjAZi",
        "outputId": "40e2c60a-8c27-4519-bcb2-e9bf05c4c842"
      },
      "execution_count": null,
      "outputs": [
        {
          "output_type": "execute_result",
          "data": {
            "text/plain": [
              "matrix([[  0,   0],\n",
              "        [  0,   0],\n",
              "        [  0,   0],\n",
              "        ...,\n",
              "        [-44, -46],\n",
              "        [-43, -48],\n",
              "        [-42, -46]], dtype=int16)"
            ]
          },
          "metadata": {},
          "execution_count": 18
        }
      ]
    },
    {
      "cell_type": "code",
      "source": [],
      "metadata": {
        "id": "IEVoLpv0hZol"
      },
      "execution_count": null,
      "outputs": []
    },
    {
      "cell_type": "code",
      "source": [
        "import librosa\n",
        "import numpy as np\n",
        "signal_len = len(signal)\n",
        "#SignalInt = uint16(Signal * intmax());\n",
        "#frames = librosa.util.frame(signal, signal_len,signal_len)\n",
        "#print(signal_len)"
      ],
      "metadata": {
        "colab": {
          "base_uri": "https://localhost:8080/",
          "height": 235
        },
        "id": "iQvPHK-6Zm_S",
        "outputId": "26b99665-d64e-4339-abea-9f2e0e551e7f"
      },
      "execution_count": null,
      "outputs": [
        {
          "output_type": "error",
          "ename": "NameError",
          "evalue": "ignored",
          "traceback": [
            "\u001b[0;31m---------------------------------------------------------------------------\u001b[0m",
            "\u001b[0;31mNameError\u001b[0m                                 Traceback (most recent call last)",
            "\u001b[0;32m<ipython-input-12-f5dee475668a>\u001b[0m in \u001b[0;36m<module>\u001b[0;34m\u001b[0m\n\u001b[1;32m      2\u001b[0m \u001b[0;32mimport\u001b[0m \u001b[0mnumpy\u001b[0m \u001b[0;32mas\u001b[0m \u001b[0mnp\u001b[0m\u001b[0;34m\u001b[0m\u001b[0;34m\u001b[0m\u001b[0m\n\u001b[1;32m      3\u001b[0m \u001b[0msignal_len\u001b[0m \u001b[0;34m=\u001b[0m \u001b[0mlen\u001b[0m\u001b[0;34m(\u001b[0m\u001b[0msignal\u001b[0m\u001b[0;34m)\u001b[0m\u001b[0;34m\u001b[0m\u001b[0;34m\u001b[0m\u001b[0m\n\u001b[0;32m----> 4\u001b[0;31m \u001b[0mSignalInt\u001b[0m \u001b[0;34m=\u001b[0m \u001b[0muint16\u001b[0m\u001b[0;34m(\u001b[0m\u001b[0mSignal\u001b[0m \u001b[0;34m*\u001b[0m \u001b[0mintmax\u001b[0m\u001b[0;34m(\u001b[0m\u001b[0;34m)\u001b[0m\u001b[0;34m)\u001b[0m\u001b[0;34m;\u001b[0m\u001b[0;34m\u001b[0m\u001b[0;34m\u001b[0m\u001b[0m\n\u001b[0m\u001b[1;32m      5\u001b[0m \u001b[0;31m#frames = librosa.util.frame(signal, signal_len,signal_len)\u001b[0m\u001b[0;34m\u001b[0m\u001b[0;34m\u001b[0m\u001b[0m\n\u001b[1;32m      6\u001b[0m \u001b[0;31m#print(signal_len)\u001b[0m\u001b[0;34m\u001b[0m\u001b[0;34m\u001b[0m\u001b[0m\n",
            "\u001b[0;31mNameError\u001b[0m: name 'uint16' is not defined"
          ]
        }
      ]
    },
    {
      "cell_type": "code",
      "source": [
        "plt.plot(FFT)"
      ],
      "metadata": {
        "colab": {
          "base_uri": "https://localhost:8080/",
          "height": 300
        },
        "id": "85lQcFbvxp5I",
        "outputId": "4ff21729-039d-4640-a31f-6e67aabeb737"
      },
      "execution_count": null,
      "outputs": [
        {
          "output_type": "execute_result",
          "data": {
            "text/plain": [
              "[<matplotlib.lines.Line2D at 0x7f984dc12590>,\n",
              " <matplotlib.lines.Line2D at 0x7f984dc12890>]"
            ]
          },
          "metadata": {},
          "execution_count": 10
        },
        {
          "output_type": "display_data",
          "data": {
            "text/plain": [
              "<Figure size 432x288 with 1 Axes>"
            ],
            "image/png": "[encoded data removed]"
          },
          "metadata": {
            "needs_background": "light"
          }
        }
      ]
    },
    {
      "cell_type": "code",
      "source": [
        "scale = np.int16(irfft_output/np.absolute(irfft_output).max()*50000)"
      ],
      "metadata": {
        "id": "16LkxMDye72B"
      },
      "execution_count": null,
      "outputs": []
    },
    {
      "cell_type": "code",
      "source": [
        "wavfile.write('inversed.wav',s_rate,scale)"
      ],
      "metadata": {
        "id": "5RTitssQfWqN"
      },
      "execution_count": null,
      "outputs": []
    },
    {
      "cell_type": "code",
      "source": [
        "import wave\n",
        "\n",
        "audio_file = wave.open('rahma.wav', 'r')"
      ],
      "metadata": {
        "id": "vYJl5ObckW8G"
      },
      "execution_count": null,
      "outputs": []
    },
    {
      "cell_type": "code",
      "source": [
        " samplenum = audio_file.getnframes()"
      ],
      "metadata": {
        "id": "iawW_VtYk_0k"
      },
      "execution_count": null,
      "outputs": []
    },
    {
      "cell_type": "code",
      "source": [
        "samplenum"
      ],
      "metadata": {
        "colab": {
          "base_uri": "https://localhost:8080/"
        },
        "id": "-IFvgUXdlNJ0",
        "outputId": "6e464829-c243-44ab-e73b-775e2c1ab53c"
      },
      "execution_count": null,
      "outputs": [
        {
          "output_type": "execute_result",
          "data": {
            "text/plain": [
              "64512"
            ]
          },
          "metadata": {},
          "execution_count": 24
        }
      ]
    }
  ]
}